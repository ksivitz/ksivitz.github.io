{
 "cells": [
  {
   "cell_type": "code",
   "execution_count": 21,
   "id": "8a9e7ea1",
   "metadata": {},
   "outputs": [],
   "source": [
    "import numpy as np\n",
    "import pandas as pd\n",
    "import matplotlib.pyplot as plt\n",
    "import seaborn as sns\n",
    "from datetime import datetime"
   ]
  },
  {
   "cell_type": "code",
   "execution_count": 2,
   "id": "3c7895ec",
   "metadata": {},
   "outputs": [],
   "source": [
    "import nltk\n",
    "from nltk.corpus import stopwords\n",
    "from nltk.tokenize import RegexpTokenizer\n",
    "from nltk.stem import WordNetLemmatizer\n",
    "import spacy\n",
    "from nltk.sentiment.vader import SentimentIntensityAnalyzer as SIA"
   ]
  },
  {
   "cell_type": "code",
   "execution_count": 3,
   "id": "c63be5aa",
   "metadata": {},
   "outputs": [],
   "source": [
    "df= pd.read_csv('apple.csv')"
   ]
  },
  {
   "cell_type": "code",
   "execution_count": 4,
   "id": "aed60441",
   "metadata": {},
   "outputs": [
    {
     "data": {
      "text/html": [
       "<div>\n",
       "<style scoped>\n",
       "    .dataframe tbody tr th:only-of-type {\n",
       "        vertical-align: middle;\n",
       "    }\n",
       "\n",
       "    .dataframe tbody tr th {\n",
       "        vertical-align: top;\n",
       "    }\n",
       "\n",
       "    .dataframe thead th {\n",
       "        text-align: right;\n",
       "    }\n",
       "</style>\n",
       "<table border=\"1\" class=\"dataframe\">\n",
       "  <thead>\n",
       "    <tr style=\"text-align: right;\">\n",
       "      <th></th>\n",
       "      <th>index</th>\n",
       "      <th>type</th>\n",
       "      <th>id</th>\n",
       "      <th>subreddit.id</th>\n",
       "      <th>subreddit.name</th>\n",
       "      <th>subreddit.nsfw</th>\n",
       "      <th>created_utc</th>\n",
       "      <th>permalink</th>\n",
       "      <th>body</th>\n",
       "      <th>sentiment</th>\n",
       "      <th>score</th>\n",
       "    </tr>\n",
       "  </thead>\n",
       "  <tbody>\n",
       "    <tr>\n",
       "      <th>0</th>\n",
       "      <td>0</td>\n",
       "      <td>comment</td>\n",
       "      <td>hitr97r</td>\n",
       "      <td>2qjfk</td>\n",
       "      <td>stocks</td>\n",
       "      <td>False</td>\n",
       "      <td>1635724579</td>\n",
       "      <td>https://old.reddit.com/r/stocks/comments/qjvo1...</td>\n",
       "      <td>I own all 3.  Don't sell AAPL.</td>\n",
       "      <td>0.0000</td>\n",
       "      <td>1</td>\n",
       "    </tr>\n",
       "    <tr>\n",
       "      <th>1</th>\n",
       "      <td>1</td>\n",
       "      <td>comment</td>\n",
       "      <td>hitq83x</td>\n",
       "      <td>2qjfk</td>\n",
       "      <td>stocks</td>\n",
       "      <td>False</td>\n",
       "      <td>1635724042</td>\n",
       "      <td>https://old.reddit.com/r/stocks/comments/qj07j...</td>\n",
       "      <td>I believe TSLA want to be like AAPL: part hard...</td>\n",
       "      <td>-0.2500</td>\n",
       "      <td>2</td>\n",
       "    </tr>\n",
       "    <tr>\n",
       "      <th>2</th>\n",
       "      <td>2</td>\n",
       "      <td>comment</td>\n",
       "      <td>hitp3wy</td>\n",
       "      <td>3qd6hq</td>\n",
       "      <td>millennialbets</td>\n",
       "      <td>False</td>\n",
       "      <td>1635723463</td>\n",
       "      <td>https://old.reddit.com/r/MillennialBets/commen...</td>\n",
       "      <td>**[Recent News for BABA-](https://www.reddit.c...</td>\n",
       "      <td>0.9422</td>\n",
       "      <td>1</td>\n",
       "    </tr>\n",
       "    <tr>\n",
       "      <th>3</th>\n",
       "      <td>3</td>\n",
       "      <td>comment</td>\n",
       "      <td>hitnu8x</td>\n",
       "      <td>2qsbv</td>\n",
       "      <td>dividends</td>\n",
       "      <td>False</td>\n",
       "      <td>1635722829</td>\n",
       "      <td>https://old.reddit.com/r/dividends/comments/qj...</td>\n",
       "      <td>O, AAPL, NKE</td>\n",
       "      <td>NaN</td>\n",
       "      <td>1</td>\n",
       "    </tr>\n",
       "    <tr>\n",
       "      <th>4</th>\n",
       "      <td>4</td>\n",
       "      <td>comment</td>\n",
       "      <td>hitmll9</td>\n",
       "      <td>2qjfk</td>\n",
       "      <td>stocks</td>\n",
       "      <td>False</td>\n",
       "      <td>1635722214</td>\n",
       "      <td>https://old.reddit.com/r/stocks/comments/qjvo1...</td>\n",
       "      <td>I have both. CRM has had better revenue and ea...</td>\n",
       "      <td>0.7896</td>\n",
       "      <td>1</td>\n",
       "    </tr>\n",
       "  </tbody>\n",
       "</table>\n",
       "</div>"
      ],
      "text/plain": [
       "   index     type       id subreddit.id  subreddit.name  subreddit.nsfw  \\\n",
       "0      0  comment  hitr97r        2qjfk          stocks           False   \n",
       "1      1  comment  hitq83x        2qjfk          stocks           False   \n",
       "2      2  comment  hitp3wy       3qd6hq  millennialbets           False   \n",
       "3      3  comment  hitnu8x        2qsbv       dividends           False   \n",
       "4      4  comment  hitmll9        2qjfk          stocks           False   \n",
       "\n",
       "   created_utc                                          permalink  \\\n",
       "0   1635724579  https://old.reddit.com/r/stocks/comments/qjvo1...   \n",
       "1   1635724042  https://old.reddit.com/r/stocks/comments/qj07j...   \n",
       "2   1635723463  https://old.reddit.com/r/MillennialBets/commen...   \n",
       "3   1635722829  https://old.reddit.com/r/dividends/comments/qj...   \n",
       "4   1635722214  https://old.reddit.com/r/stocks/comments/qjvo1...   \n",
       "\n",
       "                                                body  sentiment  score  \n",
       "0                     I own all 3.  Don't sell AAPL.     0.0000      1  \n",
       "1  I believe TSLA want to be like AAPL: part hard...    -0.2500      2  \n",
       "2  **[Recent News for BABA-](https://www.reddit.c...     0.9422      1  \n",
       "3                                       O, AAPL, NKE        NaN      1  \n",
       "4  I have both. CRM has had better revenue and ea...     0.7896      1  "
      ]
     },
     "execution_count": 4,
     "metadata": {},
     "output_type": "execute_result"
    }
   ],
   "source": [
    "df.head()"
   ]
  },
  {
   "cell_type": "code",
   "execution_count": 5,
   "id": "a2c2701e",
   "metadata": {},
   "outputs": [],
   "source": [
    "date = []\n",
    "for i in df['created_utc']:\n",
    "    day = datetime.fromtimestamp(i).strftime('%Y-%m-%d')\n",
    "    date.append(day)"
   ]
  },
  {
   "cell_type": "code",
   "execution_count": 17,
   "id": "c4d06ac4",
   "metadata": {},
   "outputs": [],
   "source": [
    "df['date'] = date"
   ]
  },
  {
   "cell_type": "code",
   "execution_count": 18,
   "id": "305d47d7",
   "metadata": {},
   "outputs": [],
   "source": [
    "df2 = df[['body', 'date']]"
   ]
  },
  {
   "cell_type": "code",
   "execution_count": 19,
   "id": "70539440",
   "metadata": {},
   "outputs": [
    {
     "data": {
      "text/html": [
       "<div>\n",
       "<style scoped>\n",
       "    .dataframe tbody tr th:only-of-type {\n",
       "        vertical-align: middle;\n",
       "    }\n",
       "\n",
       "    .dataframe tbody tr th {\n",
       "        vertical-align: top;\n",
       "    }\n",
       "\n",
       "    .dataframe thead th {\n",
       "        text-align: right;\n",
       "    }\n",
       "</style>\n",
       "<table border=\"1\" class=\"dataframe\">\n",
       "  <thead>\n",
       "    <tr style=\"text-align: right;\">\n",
       "      <th></th>\n",
       "      <th>body</th>\n",
       "      <th>date</th>\n",
       "    </tr>\n",
       "  </thead>\n",
       "  <tbody>\n",
       "    <tr>\n",
       "      <th>0</th>\n",
       "      <td>I own all 3.  Don't sell AAPL.</td>\n",
       "      <td>2021-10-31</td>\n",
       "    </tr>\n",
       "    <tr>\n",
       "      <th>1</th>\n",
       "      <td>I believe TSLA want to be like AAPL: part hard...</td>\n",
       "      <td>2021-10-31</td>\n",
       "    </tr>\n",
       "    <tr>\n",
       "      <th>2</th>\n",
       "      <td>**[Recent News for BABA-](https://www.reddit.c...</td>\n",
       "      <td>2021-10-31</td>\n",
       "    </tr>\n",
       "    <tr>\n",
       "      <th>3</th>\n",
       "      <td>O, AAPL, NKE</td>\n",
       "      <td>2021-10-31</td>\n",
       "    </tr>\n",
       "    <tr>\n",
       "      <th>4</th>\n",
       "      <td>I have both. CRM has had better revenue and ea...</td>\n",
       "      <td>2021-10-31</td>\n",
       "    </tr>\n",
       "  </tbody>\n",
       "</table>\n",
       "</div>"
      ],
      "text/plain": [
       "                                                body        date\n",
       "0                     I own all 3.  Don't sell AAPL.  2021-10-31\n",
       "1  I believe TSLA want to be like AAPL: part hard...  2021-10-31\n",
       "2  **[Recent News for BABA-](https://www.reddit.c...  2021-10-31\n",
       "3                                       O, AAPL, NKE  2021-10-31\n",
       "4  I have both. CRM has had better revenue and ea...  2021-10-31"
      ]
     },
     "execution_count": 19,
     "metadata": {},
     "output_type": "execute_result"
    }
   ],
   "source": [
    "df2.head()"
   ]
  },
  {
   "cell_type": "code",
   "execution_count": 22,
   "id": "47ee90d2",
   "metadata": {},
   "outputs": [],
   "source": [
    "df2['date'] = df2['date'].astype('datetime64[ns]')"
   ]
  },
  {
   "cell_type": "code",
   "execution_count": 23,
   "id": "983e4986",
   "metadata": {},
   "outputs": [
    {
     "name": "stdout",
     "output_type": "stream",
     "text": [
      "<class 'pandas.core.frame.DataFrame'>\n",
      "RangeIndex: 297533 entries, 0 to 297532\n",
      "Data columns (total 2 columns):\n",
      " #   Column  Non-Null Count   Dtype         \n",
      "---  ------  --------------   -----         \n",
      " 0   body    297533 non-null  object        \n",
      " 1   date    297533 non-null  datetime64[ns]\n",
      "dtypes: datetime64[ns](1), object(1)\n",
      "memory usage: 4.5+ MB\n"
     ]
    }
   ],
   "source": [
    "df2.info()"
   ]
  },
  {
   "cell_type": "code",
   "execution_count": 24,
   "id": "722a612e",
   "metadata": {},
   "outputs": [
    {
     "data": {
      "text/plain": [
       "body    0\n",
       "date    0\n",
       "dtype: int64"
      ]
     },
     "execution_count": 24,
     "metadata": {},
     "output_type": "execute_result"
    }
   ],
   "source": [
    "df2.isnull().sum()"
   ]
  },
  {
   "cell_type": "code",
   "execution_count": 25,
   "id": "a209ede5",
   "metadata": {},
   "outputs": [],
   "source": [
    "appl = pd.read_csv('AAPL.csv')"
   ]
  },
  {
   "cell_type": "code",
   "execution_count": 26,
   "id": "c5990b22",
   "metadata": {},
   "outputs": [
    {
     "data": {
      "text/html": [
       "<div>\n",
       "<style scoped>\n",
       "    .dataframe tbody tr th:only-of-type {\n",
       "        vertical-align: middle;\n",
       "    }\n",
       "\n",
       "    .dataframe tbody tr th {\n",
       "        vertical-align: top;\n",
       "    }\n",
       "\n",
       "    .dataframe thead th {\n",
       "        text-align: right;\n",
       "    }\n",
       "</style>\n",
       "<table border=\"1\" class=\"dataframe\">\n",
       "  <thead>\n",
       "    <tr style=\"text-align: right;\">\n",
       "      <th></th>\n",
       "      <th>Date</th>\n",
       "      <th>Open</th>\n",
       "      <th>High</th>\n",
       "      <th>Low</th>\n",
       "      <th>Close*</th>\n",
       "      <th>Adj Close**</th>\n",
       "      <th>Volume</th>\n",
       "    </tr>\n",
       "  </thead>\n",
       "  <tbody>\n",
       "    <tr>\n",
       "      <th>0</th>\n",
       "      <td>29-Oct-21</td>\n",
       "      <td>147.22</td>\n",
       "      <td>149.94</td>\n",
       "      <td>146.41</td>\n",
       "      <td>149.80</td>\n",
       "      <td>148.72</td>\n",
       "      <td>124,953,200</td>\n",
       "    </tr>\n",
       "    <tr>\n",
       "      <th>1</th>\n",
       "      <td>28-Oct-21</td>\n",
       "      <td>149.82</td>\n",
       "      <td>153.17</td>\n",
       "      <td>149.72</td>\n",
       "      <td>152.57</td>\n",
       "      <td>151.47</td>\n",
       "      <td>100,077,900</td>\n",
       "    </tr>\n",
       "    <tr>\n",
       "      <th>2</th>\n",
       "      <td>27-Oct-21</td>\n",
       "      <td>149.36</td>\n",
       "      <td>149.73</td>\n",
       "      <td>148.49</td>\n",
       "      <td>148.85</td>\n",
       "      <td>147.78</td>\n",
       "      <td>56,094,900</td>\n",
       "    </tr>\n",
       "    <tr>\n",
       "      <th>3</th>\n",
       "      <td>26-Oct-21</td>\n",
       "      <td>149.33</td>\n",
       "      <td>150.84</td>\n",
       "      <td>149.01</td>\n",
       "      <td>149.32</td>\n",
       "      <td>148.24</td>\n",
       "      <td>60,893,400</td>\n",
       "    </tr>\n",
       "    <tr>\n",
       "      <th>4</th>\n",
       "      <td>25-Oct-21</td>\n",
       "      <td>148.68</td>\n",
       "      <td>149.37</td>\n",
       "      <td>147.62</td>\n",
       "      <td>148.64</td>\n",
       "      <td>147.57</td>\n",
       "      <td>50,720,600</td>\n",
       "    </tr>\n",
       "  </tbody>\n",
       "</table>\n",
       "</div>"
      ],
      "text/plain": [
       "        Date    Open    High     Low  Close*  Adj Close**       Volume\n",
       "0  29-Oct-21  147.22  149.94  146.41  149.80       148.72  124,953,200\n",
       "1  28-Oct-21  149.82  153.17  149.72  152.57       151.47  100,077,900\n",
       "2  27-Oct-21  149.36  149.73  148.49  148.85       147.78   56,094,900\n",
       "3  26-Oct-21  149.33  150.84  149.01  149.32       148.24   60,893,400\n",
       "4  25-Oct-21  148.68  149.37  147.62  148.64       147.57   50,720,600"
      ]
     },
     "execution_count": 26,
     "metadata": {},
     "output_type": "execute_result"
    }
   ],
   "source": [
    "appl.head()"
   ]
  },
  {
   "cell_type": "code",
   "execution_count": 28,
   "id": "6a2ba7d9",
   "metadata": {},
   "outputs": [],
   "source": [
    "appl['Date'] = appl['Date'].astype('datetime64[ns]')"
   ]
  },
  {
   "cell_type": "code",
   "execution_count": 29,
   "id": "f160b518",
   "metadata": {},
   "outputs": [],
   "source": [
    "def get_sentiment(comment):\n",
    "    \n",
    "    tokenizer = RegexpTokenizer('\\w+|\\$[\\d\\.]+|http\\S+')\n",
    "    tokenized_string = tokenizer.tokenize(comment) \n",
    "    \n",
    "    lower_string_tokenized = [word.lower() for word in tokenized_string]\n",
    "    \n",
    "    nlp = spacy.load('en_core_web_sm')\n",
    "    \n",
    "    all_stopwords = nlp.Defaults.stop_words\n",
    "    text = lower_string_tokenized\n",
    "    tokens_without_sw = [word for word in text if not word in all_stopwords]\n",
    "    \n",
    "    lemmatizer = WordNetLemmatizer()\n",
    "    lemmatized_tokens = ([lemmatizer.lemmatize(w) for w in tokens_without_sw])\n",
    "    clean_output = lemmatized_tokens\n",
    "    \n",
    "    sia = SIA()\n",
    "    results = []\n",
    "\n",
    "    for sentences in clean_output:\n",
    "        pol_score = sia.polarity_scores(sentences)\n",
    "        pol_score['words'] = sentences\n",
    "        results.append(pol_score)\n",
    "    \n",
    "    pd.set_option('display.max_columns', None, 'max_colwidth', None)\n",
    "    df = pd.DataFrame.from_records(results)\n",
    "    \n",
    "  \n",
    "    df['label'] = 0\n",
    "\n",
    "    df.loc[df['compound'] > .10, 'label'] = 1\n",
    "    df.loc[df['compound'] < -.10, 'label'] = -1\n",
    "    \n",
    "    if 1 in df['label'].unique() and -1 in df['label'].unique():\n",
    "        \n",
    "        split = df['label'].value_counts()[1] - df['label'].value_counts()[-1]\n",
    "        \n",
    "    elif 1 in df['label'].unique() and -1 not in df['label'].unique():\n",
    "        \n",
    "        split = df['label'].value_counts()[1] - 0\n",
    "    elif 1 not in df['label'].unique() and -1 in df['label'].unique():\n",
    "        split = 0 - df['label'].value_counts()[-1]\n",
    "    else:\n",
    "        split = 0\n",
    "    return split"
   ]
  },
  {
   "cell_type": "code",
   "execution_count": null,
   "id": "70fd8812",
   "metadata": {},
   "outputs": [],
   "source": [
    "sentiment = []\n",
    "for i in df2['body']:\n",
    "    try:\n",
    "        sent = get_sentiment(i)\n",
    "        sentiment.append(sent)\n",
    "    except:\n",
    "        sentiment.append('Na')"
   ]
  },
  {
   "cell_type": "code",
   "execution_count": 66,
   "id": "4131bd75",
   "metadata": {},
   "outputs": [],
   "source": [
    "sent = []\n",
    "for i in sentiment:\n",
    "    try:\n",
    "        x = pd.to_numeric(i)\n",
    "        sent.append(i)\n",
    "    except:\n",
    "        sent.append(0)"
   ]
  },
  {
   "cell_type": "code",
   "execution_count": 67,
   "id": "30b43e46",
   "metadata": {},
   "outputs": [],
   "source": [
    "df2['Sentiment'] = sent"
   ]
  },
  {
   "cell_type": "code",
   "execution_count": 79,
   "id": "00b28206",
   "metadata": {},
   "outputs": [
    {
     "data": {
      "text/html": [
       "<div>\n",
       "<style scoped>\n",
       "    .dataframe tbody tr th:only-of-type {\n",
       "        vertical-align: middle;\n",
       "    }\n",
       "\n",
       "    .dataframe tbody tr th {\n",
       "        vertical-align: top;\n",
       "    }\n",
       "\n",
       "    .dataframe thead th {\n",
       "        text-align: right;\n",
       "    }\n",
       "</style>\n",
       "<table border=\"1\" class=\"dataframe\">\n",
       "  <thead>\n",
       "    <tr style=\"text-align: right;\">\n",
       "      <th></th>\n",
       "      <th>body</th>\n",
       "      <th>date</th>\n",
       "      <th>Sentiment</th>\n",
       "    </tr>\n",
       "  </thead>\n",
       "  <tbody>\n",
       "    <tr>\n",
       "      <th>0</th>\n",
       "      <td>I own all 3.  Don't sell AAPL.</td>\n",
       "      <td>2021-10-31</td>\n",
       "      <td>0</td>\n",
       "    </tr>\n",
       "    <tr>\n",
       "      <th>1</th>\n",
       "      <td>I believe TSLA want to be like AAPL: part hard...</td>\n",
       "      <td>2021-10-31</td>\n",
       "      <td>-2</td>\n",
       "    </tr>\n",
       "    <tr>\n",
       "      <th>2</th>\n",
       "      <td>**[Recent News for BABA-](https://www.reddit.c...</td>\n",
       "      <td>2021-10-31</td>\n",
       "      <td>17</td>\n",
       "    </tr>\n",
       "    <tr>\n",
       "      <th>3</th>\n",
       "      <td>O, AAPL, NKE</td>\n",
       "      <td>2021-10-31</td>\n",
       "      <td>0</td>\n",
       "    </tr>\n",
       "    <tr>\n",
       "      <th>4</th>\n",
       "      <td>I have both. CRM has had better revenue and ea...</td>\n",
       "      <td>2021-10-31</td>\n",
       "      <td>2</td>\n",
       "    </tr>\n",
       "  </tbody>\n",
       "</table>\n",
       "</div>"
      ],
      "text/plain": [
       "                                                body       date  Sentiment\n",
       "0                     I own all 3.  Don't sell AAPL. 2021-10-31          0\n",
       "1  I believe TSLA want to be like AAPL: part hard... 2021-10-31         -2\n",
       "2  **[Recent News for BABA-](https://www.reddit.c... 2021-10-31         17\n",
       "3                                       O, AAPL, NKE 2021-10-31          0\n",
       "4  I have both. CRM has had better revenue and ea... 2021-10-31          2"
      ]
     },
     "execution_count": 79,
     "metadata": {},
     "output_type": "execute_result"
    }
   ],
   "source": [
    "df2.head()"
   ]
  },
  {
   "cell_type": "code",
   "execution_count": 73,
   "id": "29d819aa",
   "metadata": {},
   "outputs": [
    {
     "name": "stdout",
     "output_type": "stream",
     "text": [
      "<class 'pandas.core.frame.DataFrame'>\n",
      "RangeIndex: 297533 entries, 0 to 297532\n",
      "Data columns (total 3 columns):\n",
      " #   Column     Non-Null Count   Dtype         \n",
      "---  ------     --------------   -----         \n",
      " 0   body       297533 non-null  object        \n",
      " 1   date       297533 non-null  datetime64[ns]\n",
      " 2   Sentiment  297533 non-null  int64         \n",
      "dtypes: datetime64[ns](1), int64(1), object(1)\n",
      "memory usage: 6.8+ MB\n"
     ]
    }
   ],
   "source": [
    "df2.info()"
   ]
  },
  {
   "cell_type": "code",
   "execution_count": 80,
   "id": "0dc69f28",
   "metadata": {},
   "outputs": [],
   "source": [
    "df_sent = df2.groupby('date')['Sentiment'].sum()"
   ]
  },
  {
   "cell_type": "code",
   "execution_count": 81,
   "id": "24d90a36",
   "metadata": {},
   "outputs": [],
   "source": [
    "df_sent = pd.DataFrame(df_sent)"
   ]
  },
  {
   "cell_type": "code",
   "execution_count": 82,
   "id": "57ef9a62",
   "metadata": {},
   "outputs": [
    {
     "data": {
      "text/html": [
       "<div>\n",
       "<style scoped>\n",
       "    .dataframe tbody tr th:only-of-type {\n",
       "        vertical-align: middle;\n",
       "    }\n",
       "\n",
       "    .dataframe tbody tr th {\n",
       "        vertical-align: top;\n",
       "    }\n",
       "\n",
       "    .dataframe thead th {\n",
       "        text-align: right;\n",
       "    }\n",
       "</style>\n",
       "<table border=\"1\" class=\"dataframe\">\n",
       "  <thead>\n",
       "    <tr style=\"text-align: right;\">\n",
       "      <th></th>\n",
       "      <th>Sentiment</th>\n",
       "    </tr>\n",
       "    <tr>\n",
       "      <th>date</th>\n",
       "      <th></th>\n",
       "    </tr>\n",
       "  </thead>\n",
       "  <tbody>\n",
       "    <tr>\n",
       "      <th>2016-10-31</th>\n",
       "      <td>16</td>\n",
       "    </tr>\n",
       "    <tr>\n",
       "      <th>2016-11-01</th>\n",
       "      <td>45</td>\n",
       "    </tr>\n",
       "    <tr>\n",
       "      <th>2016-11-02</th>\n",
       "      <td>57</td>\n",
       "    </tr>\n",
       "    <tr>\n",
       "      <th>2016-11-03</th>\n",
       "      <td>87</td>\n",
       "    </tr>\n",
       "    <tr>\n",
       "      <th>2016-11-04</th>\n",
       "      <td>22</td>\n",
       "    </tr>\n",
       "  </tbody>\n",
       "</table>\n",
       "</div>"
      ],
      "text/plain": [
       "            Sentiment\n",
       "date                 \n",
       "2016-10-31         16\n",
       "2016-11-01         45\n",
       "2016-11-02         57\n",
       "2016-11-03         87\n",
       "2016-11-04         22"
      ]
     },
     "execution_count": 82,
     "metadata": {},
     "output_type": "execute_result"
    }
   ],
   "source": [
    "df_sent.head()"
   ]
  },
  {
   "cell_type": "code",
   "execution_count": 118,
   "id": "6f312f0c",
   "metadata": {},
   "outputs": [],
   "source": [
    "df_com = pd.merge(df_sent, appl, left_on = 'date', right_on = 'Date', how = 'left')"
   ]
  },
  {
   "cell_type": "code",
   "execution_count": 119,
   "id": "b7fcdd49",
   "metadata": {},
   "outputs": [],
   "source": [
    "df_com = df_com.dropna()"
   ]
  },
  {
   "cell_type": "code",
   "execution_count": 120,
   "id": "28f698eb",
   "metadata": {},
   "outputs": [
    {
     "data": {
      "text/html": [
       "<div>\n",
       "<style scoped>\n",
       "    .dataframe tbody tr th:only-of-type {\n",
       "        vertical-align: middle;\n",
       "    }\n",
       "\n",
       "    .dataframe tbody tr th {\n",
       "        vertical-align: top;\n",
       "    }\n",
       "\n",
       "    .dataframe thead th {\n",
       "        text-align: right;\n",
       "    }\n",
       "</style>\n",
       "<table border=\"1\" class=\"dataframe\">\n",
       "  <thead>\n",
       "    <tr style=\"text-align: right;\">\n",
       "      <th></th>\n",
       "      <th>Sentiment</th>\n",
       "      <th>Date</th>\n",
       "      <th>Open</th>\n",
       "      <th>High</th>\n",
       "      <th>Low</th>\n",
       "      <th>Close*</th>\n",
       "      <th>Adj Close**</th>\n",
       "      <th>Volume</th>\n",
       "    </tr>\n",
       "  </thead>\n",
       "  <tbody>\n",
       "    <tr>\n",
       "      <th>0</th>\n",
       "      <td>16</td>\n",
       "      <td>2016-10-31</td>\n",
       "      <td>28.41</td>\n",
       "      <td>28.56</td>\n",
       "      <td>28.30</td>\n",
       "      <td>28.39</td>\n",
       "      <td>26.43</td>\n",
       "      <td>105,677,600</td>\n",
       "    </tr>\n",
       "    <tr>\n",
       "      <th>1</th>\n",
       "      <td>45</td>\n",
       "      <td>2016-11-01</td>\n",
       "      <td>28.36</td>\n",
       "      <td>28.44</td>\n",
       "      <td>27.63</td>\n",
       "      <td>27.87</td>\n",
       "      <td>25.95</td>\n",
       "      <td>175,303,200</td>\n",
       "    </tr>\n",
       "    <tr>\n",
       "      <th>2</th>\n",
       "      <td>57</td>\n",
       "      <td>2016-11-02</td>\n",
       "      <td>27.85</td>\n",
       "      <td>28.09</td>\n",
       "      <td>27.81</td>\n",
       "      <td>27.90</td>\n",
       "      <td>25.97</td>\n",
       "      <td>113,326,800</td>\n",
       "    </tr>\n",
       "    <tr>\n",
       "      <th>3</th>\n",
       "      <td>87</td>\n",
       "      <td>2016-11-03</td>\n",
       "      <td>27.75</td>\n",
       "      <td>27.86</td>\n",
       "      <td>27.39</td>\n",
       "      <td>27.46</td>\n",
       "      <td>25.70</td>\n",
       "      <td>107,730,400</td>\n",
       "    </tr>\n",
       "    <tr>\n",
       "      <th>4</th>\n",
       "      <td>22</td>\n",
       "      <td>2016-11-04</td>\n",
       "      <td>27.13</td>\n",
       "      <td>27.56</td>\n",
       "      <td>27.03</td>\n",
       "      <td>27.21</td>\n",
       "      <td>25.46</td>\n",
       "      <td>123,348,000</td>\n",
       "    </tr>\n",
       "  </tbody>\n",
       "</table>\n",
       "</div>"
      ],
      "text/plain": [
       "   Sentiment       Date   Open   High    Low  Close*  Adj Close**       Volume\n",
       "0         16 2016-10-31  28.41  28.56  28.30   28.39        26.43  105,677,600\n",
       "1         45 2016-11-01  28.36  28.44  27.63   27.87        25.95  175,303,200\n",
       "2         57 2016-11-02  27.85  28.09  27.81   27.90        25.97  113,326,800\n",
       "3         87 2016-11-03  27.75  27.86  27.39   27.46        25.70  107,730,400\n",
       "4         22 2016-11-04  27.13  27.56  27.03   27.21        25.46  123,348,000"
      ]
     },
     "execution_count": 120,
     "metadata": {},
     "output_type": "execute_result"
    }
   ],
   "source": [
    "df_com.head()"
   ]
  },
  {
   "cell_type": "code",
   "execution_count": 121,
   "id": "bb9f5338",
   "metadata": {},
   "outputs": [],
   "source": [
    "tom_open = []\n",
    "for i in range(len(df_com)):\n",
    "    try:\n",
    "        x = df_com['Open'].iloc[i+1] - df_com['Close*'].iloc[i]\n",
    "    except:\n",
    "        x = 'NA'\n",
    "    tom_open.append(x)"
   ]
  },
  {
   "cell_type": "code",
   "execution_count": 122,
   "id": "cfb4d579",
   "metadata": {},
   "outputs": [],
   "source": [
    "df_com['Open_Diff'] = tom_open"
   ]
  },
  {
   "cell_type": "code",
   "execution_count": 123,
   "id": "e62d2930",
   "metadata": {},
   "outputs": [],
   "source": [
    "tom_close = []\n",
    "for i in range(len(df_com)):\n",
    "    try:\n",
    "        x = df_com['Close*'].iloc[i+1] - df_com['Close*'].iloc[i]\n",
    "    except:\n",
    "        x = 'NA'\n",
    "    tom_close.append(x)"
   ]
  },
  {
   "cell_type": "code",
   "execution_count": 124,
   "id": "589d5560",
   "metadata": {},
   "outputs": [],
   "source": [
    "df_com['Close_Diff'] = tom_close"
   ]
  },
  {
   "cell_type": "code",
   "execution_count": 125,
   "id": "5840957a",
   "metadata": {},
   "outputs": [
    {
     "data": {
      "text/html": [
       "<div>\n",
       "<style scoped>\n",
       "    .dataframe tbody tr th:only-of-type {\n",
       "        vertical-align: middle;\n",
       "    }\n",
       "\n",
       "    .dataframe tbody tr th {\n",
       "        vertical-align: top;\n",
       "    }\n",
       "\n",
       "    .dataframe thead th {\n",
       "        text-align: right;\n",
       "    }\n",
       "</style>\n",
       "<table border=\"1\" class=\"dataframe\">\n",
       "  <thead>\n",
       "    <tr style=\"text-align: right;\">\n",
       "      <th></th>\n",
       "      <th>Sentiment</th>\n",
       "      <th>Date</th>\n",
       "      <th>Open</th>\n",
       "      <th>High</th>\n",
       "      <th>Low</th>\n",
       "      <th>Close*</th>\n",
       "      <th>Adj Close**</th>\n",
       "      <th>Volume</th>\n",
       "      <th>Open_Diff</th>\n",
       "      <th>Close_Diff</th>\n",
       "    </tr>\n",
       "  </thead>\n",
       "  <tbody>\n",
       "    <tr>\n",
       "      <th>1820</th>\n",
       "      <td>1029</td>\n",
       "      <td>2021-10-25</td>\n",
       "      <td>148.68</td>\n",
       "      <td>149.37</td>\n",
       "      <td>147.62</td>\n",
       "      <td>148.64</td>\n",
       "      <td>147.57</td>\n",
       "      <td>50,720,600</td>\n",
       "      <td>0.69</td>\n",
       "      <td>0.68</td>\n",
       "    </tr>\n",
       "    <tr>\n",
       "      <th>1821</th>\n",
       "      <td>825</td>\n",
       "      <td>2021-10-26</td>\n",
       "      <td>149.33</td>\n",
       "      <td>150.84</td>\n",
       "      <td>149.01</td>\n",
       "      <td>149.32</td>\n",
       "      <td>148.24</td>\n",
       "      <td>60,893,400</td>\n",
       "      <td>0.04</td>\n",
       "      <td>-0.47</td>\n",
       "    </tr>\n",
       "    <tr>\n",
       "      <th>1822</th>\n",
       "      <td>1356</td>\n",
       "      <td>2021-10-27</td>\n",
       "      <td>149.36</td>\n",
       "      <td>149.73</td>\n",
       "      <td>148.49</td>\n",
       "      <td>148.85</td>\n",
       "      <td>147.78</td>\n",
       "      <td>56,094,900</td>\n",
       "      <td>0.97</td>\n",
       "      <td>3.72</td>\n",
       "    </tr>\n",
       "    <tr>\n",
       "      <th>1823</th>\n",
       "      <td>1810</td>\n",
       "      <td>2021-10-28</td>\n",
       "      <td>149.82</td>\n",
       "      <td>153.17</td>\n",
       "      <td>149.72</td>\n",
       "      <td>152.57</td>\n",
       "      <td>151.47</td>\n",
       "      <td>100,077,900</td>\n",
       "      <td>-5.35</td>\n",
       "      <td>-2.77</td>\n",
       "    </tr>\n",
       "    <tr>\n",
       "      <th>1824</th>\n",
       "      <td>811</td>\n",
       "      <td>2021-10-29</td>\n",
       "      <td>147.22</td>\n",
       "      <td>149.94</td>\n",
       "      <td>146.41</td>\n",
       "      <td>149.80</td>\n",
       "      <td>148.72</td>\n",
       "      <td>124,953,200</td>\n",
       "      <td>NA</td>\n",
       "      <td>NA</td>\n",
       "    </tr>\n",
       "  </tbody>\n",
       "</table>\n",
       "</div>"
      ],
      "text/plain": [
       "      Sentiment       Date    Open    High     Low  Close*  Adj Close**  \\\n",
       "1820       1029 2021-10-25  148.68  149.37  147.62  148.64       147.57   \n",
       "1821        825 2021-10-26  149.33  150.84  149.01  149.32       148.24   \n",
       "1822       1356 2021-10-27  149.36  149.73  148.49  148.85       147.78   \n",
       "1823       1810 2021-10-28  149.82  153.17  149.72  152.57       151.47   \n",
       "1824        811 2021-10-29  147.22  149.94  146.41  149.80       148.72   \n",
       "\n",
       "           Volume Open_Diff Close_Diff  \n",
       "1820   50,720,600      0.69       0.68  \n",
       "1821   60,893,400      0.04      -0.47  \n",
       "1822   56,094,900      0.97       3.72  \n",
       "1823  100,077,900     -5.35      -2.77  \n",
       "1824  124,953,200        NA         NA  "
      ]
     },
     "execution_count": 125,
     "metadata": {},
     "output_type": "execute_result"
    }
   ],
   "source": [
    "df_com.tail()"
   ]
  },
  {
   "cell_type": "code",
   "execution_count": 126,
   "id": "076a3614",
   "metadata": {},
   "outputs": [],
   "source": [
    "df_com = df_com.drop(1824, axis=0)"
   ]
  },
  {
   "cell_type": "code",
   "execution_count": 127,
   "id": "8a766e7b",
   "metadata": {},
   "outputs": [],
   "source": [
    "close = []\n",
    "for i in df_com['Close_Diff']:\n",
    "    if i > 0:\n",
    "        close.append(1)\n",
    "    else:\n",
    "        close.append(0)"
   ]
  },
  {
   "cell_type": "code",
   "execution_count": 128,
   "id": "00d4cd9c",
   "metadata": {},
   "outputs": [],
   "source": [
    "df_com['Class'] = close"
   ]
  },
  {
   "cell_type": "code",
   "execution_count": 129,
   "id": "4624c720",
   "metadata": {},
   "outputs": [
    {
     "data": {
      "text/html": [
       "<div>\n",
       "<style scoped>\n",
       "    .dataframe tbody tr th:only-of-type {\n",
       "        vertical-align: middle;\n",
       "    }\n",
       "\n",
       "    .dataframe tbody tr th {\n",
       "        vertical-align: top;\n",
       "    }\n",
       "\n",
       "    .dataframe thead th {\n",
       "        text-align: right;\n",
       "    }\n",
       "</style>\n",
       "<table border=\"1\" class=\"dataframe\">\n",
       "  <thead>\n",
       "    <tr style=\"text-align: right;\">\n",
       "      <th></th>\n",
       "      <th>Sentiment</th>\n",
       "      <th>Date</th>\n",
       "      <th>Open</th>\n",
       "      <th>High</th>\n",
       "      <th>Low</th>\n",
       "      <th>Close*</th>\n",
       "      <th>Adj Close**</th>\n",
       "      <th>Volume</th>\n",
       "      <th>Open_Diff</th>\n",
       "      <th>Close_Diff</th>\n",
       "      <th>Class</th>\n",
       "    </tr>\n",
       "  </thead>\n",
       "  <tbody>\n",
       "    <tr>\n",
       "      <th>0</th>\n",
       "      <td>16</td>\n",
       "      <td>2016-10-31</td>\n",
       "      <td>28.41</td>\n",
       "      <td>28.56</td>\n",
       "      <td>28.30</td>\n",
       "      <td>28.39</td>\n",
       "      <td>26.43</td>\n",
       "      <td>105,677,600</td>\n",
       "      <td>-0.03</td>\n",
       "      <td>-0.52</td>\n",
       "      <td>0</td>\n",
       "    </tr>\n",
       "    <tr>\n",
       "      <th>1</th>\n",
       "      <td>45</td>\n",
       "      <td>2016-11-01</td>\n",
       "      <td>28.36</td>\n",
       "      <td>28.44</td>\n",
       "      <td>27.63</td>\n",
       "      <td>27.87</td>\n",
       "      <td>25.95</td>\n",
       "      <td>175,303,200</td>\n",
       "      <td>-0.02</td>\n",
       "      <td>0.03</td>\n",
       "      <td>1</td>\n",
       "    </tr>\n",
       "    <tr>\n",
       "      <th>2</th>\n",
       "      <td>57</td>\n",
       "      <td>2016-11-02</td>\n",
       "      <td>27.85</td>\n",
       "      <td>28.09</td>\n",
       "      <td>27.81</td>\n",
       "      <td>27.90</td>\n",
       "      <td>25.97</td>\n",
       "      <td>113,326,800</td>\n",
       "      <td>-0.15</td>\n",
       "      <td>-0.44</td>\n",
       "      <td>0</td>\n",
       "    </tr>\n",
       "    <tr>\n",
       "      <th>3</th>\n",
       "      <td>87</td>\n",
       "      <td>2016-11-03</td>\n",
       "      <td>27.75</td>\n",
       "      <td>27.86</td>\n",
       "      <td>27.39</td>\n",
       "      <td>27.46</td>\n",
       "      <td>25.70</td>\n",
       "      <td>107,730,400</td>\n",
       "      <td>-0.33</td>\n",
       "      <td>-0.25</td>\n",
       "      <td>0</td>\n",
       "    </tr>\n",
       "    <tr>\n",
       "      <th>4</th>\n",
       "      <td>22</td>\n",
       "      <td>2016-11-04</td>\n",
       "      <td>27.13</td>\n",
       "      <td>27.56</td>\n",
       "      <td>27.03</td>\n",
       "      <td>27.21</td>\n",
       "      <td>25.46</td>\n",
       "      <td>123,348,000</td>\n",
       "      <td>0.31</td>\n",
       "      <td>0.39</td>\n",
       "      <td>1</td>\n",
       "    </tr>\n",
       "  </tbody>\n",
       "</table>\n",
       "</div>"
      ],
      "text/plain": [
       "   Sentiment       Date   Open   High    Low  Close*  Adj Close**  \\\n",
       "0         16 2016-10-31  28.41  28.56  28.30   28.39        26.43   \n",
       "1         45 2016-11-01  28.36  28.44  27.63   27.87        25.95   \n",
       "2         57 2016-11-02  27.85  28.09  27.81   27.90        25.97   \n",
       "3         87 2016-11-03  27.75  27.86  27.39   27.46        25.70   \n",
       "4         22 2016-11-04  27.13  27.56  27.03   27.21        25.46   \n",
       "\n",
       "        Volume Open_Diff Close_Diff  Class  \n",
       "0  105,677,600     -0.03      -0.52      0  \n",
       "1  175,303,200     -0.02       0.03      1  \n",
       "2  113,326,800     -0.15      -0.44      0  \n",
       "3  107,730,400     -0.33      -0.25      0  \n",
       "4  123,348,000      0.31       0.39      1  "
      ]
     },
     "execution_count": 129,
     "metadata": {},
     "output_type": "execute_result"
    }
   ],
   "source": [
    "df_com.head()"
   ]
  },
  {
   "cell_type": "code",
   "execution_count": 143,
   "id": "a826e5dc",
   "metadata": {},
   "outputs": [],
   "source": [
    "volume = []\n",
    "for i in df_com['Volume']:\n",
    "    x = int(i.replace(',', ''))\n",
    "    volume.append(x)"
   ]
  },
  {
   "cell_type": "code",
   "execution_count": 145,
   "id": "3b208f83",
   "metadata": {},
   "outputs": [],
   "source": [
    "df_com['Volume'] = volume"
   ]
  },
  {
   "cell_type": "code",
   "execution_count": 136,
   "id": "7bbc8d3b",
   "metadata": {},
   "outputs": [
    {
     "data": {
      "text/plain": [
       "<AxesSubplot:xlabel='Sentiment', ylabel='Open_Diff'>"
      ]
     },
     "execution_count": 136,
     "metadata": {},
     "output_type": "execute_result"
    },
    {
     "data": {
      "image/png": "[encoded data removed]",
      "text/plain": [
       "<Figure size 432x288 with 1 Axes>"
      ]
     },
     "metadata": {
      "needs_background": "light"
     },
     "output_type": "display_data"
    }
   ],
   "source": [
    "sns.scatterplot(data=df_com,x='Sentiment', y='Open_Diff', hue = 'Class')"
   ]
  },
  {
   "cell_type": "code",
   "execution_count": 153,
   "id": "dfadaadd",
   "metadata": {},
   "outputs": [
    {
     "data": {
      "text/plain": [
       "<AxesSubplot:xlabel='Sentiment', ylabel='Count'>"
      ]
     },
     "execution_count": 153,
     "metadata": {},
     "output_type": "execute_result"
    },
    {
     "data": {
      "image/png": "[encoded data removed]",
      "text/plain": [
       "<Figure size 432x288 with 1 Axes>"
      ]
     },
     "metadata": {
      "needs_background": "light"
     },
     "output_type": "display_data"
    }
   ],
   "source": [
    "sns.histplot(data=df_com,x='Sentiment', hue = 'Class')"
   ]
  },
  {
   "cell_type": "code",
   "execution_count": 161,
   "id": "589412fa",
   "metadata": {},
   "outputs": [],
   "source": [
    "df2 = df_com.drop(['Open','High','Low','Close*','Adj Close**','Close_Diff', 'Date'], axis=1)"
   ]
  },
  {
   "cell_type": "code",
   "execution_count": 162,
   "id": "bb494762",
   "metadata": {},
   "outputs": [
    {
     "data": {
      "text/html": [
       "<div>\n",
       "<style scoped>\n",
       "    .dataframe tbody tr th:only-of-type {\n",
       "        vertical-align: middle;\n",
       "    }\n",
       "\n",
       "    .dataframe tbody tr th {\n",
       "        vertical-align: top;\n",
       "    }\n",
       "\n",
       "    .dataframe thead th {\n",
       "        text-align: right;\n",
       "    }\n",
       "</style>\n",
       "<table border=\"1\" class=\"dataframe\">\n",
       "  <thead>\n",
       "    <tr style=\"text-align: right;\">\n",
       "      <th></th>\n",
       "      <th>Sentiment</th>\n",
       "      <th>Volume</th>\n",
       "      <th>Open_Diff</th>\n",
       "      <th>Class</th>\n",
       "    </tr>\n",
       "  </thead>\n",
       "  <tbody>\n",
       "    <tr>\n",
       "      <th>0</th>\n",
       "      <td>16</td>\n",
       "      <td>105677600</td>\n",
       "      <td>-0.03</td>\n",
       "      <td>0</td>\n",
       "    </tr>\n",
       "    <tr>\n",
       "      <th>1</th>\n",
       "      <td>45</td>\n",
       "      <td>175303200</td>\n",
       "      <td>-0.02</td>\n",
       "      <td>1</td>\n",
       "    </tr>\n",
       "    <tr>\n",
       "      <th>2</th>\n",
       "      <td>57</td>\n",
       "      <td>113326800</td>\n",
       "      <td>-0.15</td>\n",
       "      <td>0</td>\n",
       "    </tr>\n",
       "    <tr>\n",
       "      <th>3</th>\n",
       "      <td>87</td>\n",
       "      <td>107730400</td>\n",
       "      <td>-0.33</td>\n",
       "      <td>0</td>\n",
       "    </tr>\n",
       "    <tr>\n",
       "      <th>4</th>\n",
       "      <td>22</td>\n",
       "      <td>123348000</td>\n",
       "      <td>0.31</td>\n",
       "      <td>1</td>\n",
       "    </tr>\n",
       "  </tbody>\n",
       "</table>\n",
       "</div>"
      ],
      "text/plain": [
       "   Sentiment     Volume Open_Diff  Class\n",
       "0         16  105677600     -0.03      0\n",
       "1         45  175303200     -0.02      1\n",
       "2         57  113326800     -0.15      0\n",
       "3         87  107730400     -0.33      0\n",
       "4         22  123348000      0.31      1"
      ]
     },
     "execution_count": 162,
     "metadata": {},
     "output_type": "execute_result"
    }
   ],
   "source": [
    "df2.head()"
   ]
  },
  {
   "cell_type": "code",
   "execution_count": 179,
   "id": "2b35e5b4",
   "metadata": {},
   "outputs": [],
   "source": [
    "from sklearn.preprocessing import MinMaxScaler\n",
    "from sklearn.model_selection import train_test_split\n",
    "from sklearn.neighbors import KNeighborsClassifier\n",
    "from sklearn.ensemble import RandomForestClassifier\n",
    "from sklearn.model_selection import GridSearchCV\n",
    "from sklearn.metrics import plot_confusion_matrix, classification_report, accuracy_score"
   ]
  },
  {
   "cell_type": "code",
   "execution_count": 219,
   "id": "80178f61",
   "metadata": {},
   "outputs": [],
   "source": [
    "X = df2['Sentiment']\n",
    "y = df2['Class']"
   ]
  },
  {
   "cell_type": "code",
   "execution_count": 220,
   "id": "b6788b9b",
   "metadata": {},
   "outputs": [],
   "source": [
    "X_train, X_test, y_train, y_test = train_test_split(X, y, test_size=0.3, random_state=101)"
   ]
  },
  {
   "cell_type": "code",
   "execution_count": 221,
   "id": "1728dca6",
   "metadata": {},
   "outputs": [],
   "source": [
    "scaler = MinMaxScaler()"
   ]
  },
  {
   "cell_type": "code",
   "execution_count": 224,
   "id": "cdd1740a",
   "metadata": {},
   "outputs": [],
   "source": [
    "X_train = X_train.values.reshape(-1,1)\n",
    "scaled_X_train = scaler.fit_transform(X_train)\n",
    "X_test = X_test.values.reshape(-1,1)\n",
    "scaled_X_test = scaler.transform(X_test)"
   ]
  },
  {
   "cell_type": "code",
   "execution_count": 228,
   "id": "0a5c7eff",
   "metadata": {},
   "outputs": [],
   "source": [
    "test_error_rates = []\n",
    "\n",
    "\n",
    "for k in range(1,10):\n",
    "    knn_model = KNeighborsClassifier(n_neighbors=k)\n",
    "    knn_model.fit(scaled_X_train,y_train) \n",
    "   \n",
    "    y_pred_test = knn_model.predict(scaled_X_test)\n",
    "    \n",
    "    test_error = 1 - accuracy_score(y_test,y_pred_test)\n",
    "    test_error_rates.append(test_error)"
   ]
  },
  {
   "cell_type": "code",
   "execution_count": 229,
   "id": "cbcc3101",
   "metadata": {},
   "outputs": [
    {
     "data": {
      "text/plain": [
       "Text(0.5, 0, 'K Value')"
      ]
     },
     "execution_count": 229,
     "metadata": {},
     "output_type": "execute_result"
    },
    {
     "data": {
      "image/png": "[encoded data removed]",
      "text/plain": [
       "<Figure size 2000x1200 with 1 Axes>"
      ]
     },
     "metadata": {
      "needs_background": "light"
     },
     "output_type": "display_data"
    }
   ],
   "source": [
    "plt.figure(figsize=(10,6),dpi=200)\n",
    "plt.plot(range(1,10),test_error_rates,label='Test Error')\n",
    "plt.legend()\n",
    "plt.ylabel('Error Rate')\n",
    "plt.xlabel(\"K Value\")"
   ]
  },
  {
   "cell_type": "code",
   "execution_count": 231,
   "id": "55f488aa",
   "metadata": {},
   "outputs": [],
   "source": [
    "knn_model = KNeighborsClassifier(n_neighbors = 5)"
   ]
  },
  {
   "cell_type": "code",
   "execution_count": 232,
   "id": "21f20237",
   "metadata": {},
   "outputs": [
    {
     "data": {
      "text/plain": [
       "KNeighborsClassifier()"
      ]
     },
     "execution_count": 232,
     "metadata": {},
     "output_type": "execute_result"
    }
   ],
   "source": [
    "knn_model.fit(scaled_X_train,y_train)"
   ]
  },
  {
   "cell_type": "code",
   "execution_count": 233,
   "id": "8b2c3e8a",
   "metadata": {},
   "outputs": [],
   "source": [
    "preds = knn_model.predict(scaled_X_test)"
   ]
  },
  {
   "cell_type": "code",
   "execution_count": 234,
   "id": "3a8418bc",
   "metadata": {},
   "outputs": [
    {
     "name": "stdout",
     "output_type": "stream",
     "text": [
      "              precision    recall  f1-score   support\n",
      "\n",
      "           0       0.43      0.52      0.47       151\n",
      "           1       0.63      0.55      0.59       227\n",
      "\n",
      "    accuracy                           0.54       378\n",
      "   macro avg       0.53      0.53      0.53       378\n",
      "weighted avg       0.55      0.54      0.54       378\n",
      "\n"
     ]
    }
   ],
   "source": [
    "print(classification_report(preds,y_test))"
   ]
  },
  {
   "cell_type": "code",
   "execution_count": 235,
   "id": "82c2dfa2",
   "metadata": {},
   "outputs": [
    {
     "data": {
      "text/plain": [
       "<sklearn.metrics._plot.confusion_matrix.ConfusionMatrixDisplay at 0x1d471b5ca00>"
      ]
     },
     "execution_count": 235,
     "metadata": {},
     "output_type": "execute_result"
    },
    {
     "data": {
      "image/png": "[encoded data removed]",
      "text/plain": [
       "<Figure size 432x288 with 2 Axes>"
      ]
     },
     "metadata": {
      "needs_background": "light"
     },
     "output_type": "display_data"
    }
   ],
   "source": [
    "plot_confusion_matrix(knn_model, scaled_X_test,y_test)"
   ]
  },
  {
   "cell_type": "code",
   "execution_count": 241,
   "id": "9883f9f5",
   "metadata": {},
   "outputs": [],
   "source": [
    "X = df2.drop('Class', axis=1)\n",
    "y=df2['Class']"
   ]
  },
  {
   "cell_type": "code",
   "execution_count": 242,
   "id": "b0f768f9",
   "metadata": {},
   "outputs": [],
   "source": [
    "X_train, X_test, y_train, y_test = train_test_split(X, y, test_size=0.3, random_state=101)"
   ]
  },
  {
   "cell_type": "code",
   "execution_count": 243,
   "id": "0a0a47d7",
   "metadata": {},
   "outputs": [],
   "source": [
    "scaler = MinMaxScaler()"
   ]
  },
  {
   "cell_type": "code",
   "execution_count": 244,
   "id": "07601cae",
   "metadata": {},
   "outputs": [],
   "source": [
    "scaled_X_train = scaler.fit_transform(X_train)"
   ]
  },
  {
   "cell_type": "code",
   "execution_count": 245,
   "id": "3aa24edb",
   "metadata": {},
   "outputs": [],
   "source": [
    "scaled_X_test = scaler.transform(X_test)"
   ]
  },
  {
   "cell_type": "code",
   "execution_count": 246,
   "id": "361ef678",
   "metadata": {},
   "outputs": [],
   "source": [
    "test_error_rates = []\n",
    "\n",
    "\n",
    "for k in range(1,100):\n",
    "    knn_model = KNeighborsClassifier(n_neighbors=k)\n",
    "    knn_model.fit(scaled_X_train,y_train) \n",
    "   \n",
    "    y_pred_test = knn_model.predict(scaled_X_test)\n",
    "    \n",
    "    test_error = 1 - accuracy_score(y_test,y_pred_test)\n",
    "    test_error_rates.append(test_error)"
   ]
  },
  {
   "cell_type": "code",
   "execution_count": 247,
   "id": "52d890e0",
   "metadata": {},
   "outputs": [
    {
     "data": {
      "text/plain": [
       "Text(0.5, 0, 'K Value')"
      ]
     },
     "execution_count": 247,
     "metadata": {},
     "output_type": "execute_result"
    },
    {
     "data": {
      "image/png": "[encoded data removed]",
      "text/plain": [
       "<Figure size 2000x1200 with 1 Axes>"
      ]
     },
     "metadata": {
      "needs_background": "light"
     },
     "output_type": "display_data"
    }
   ],
   "source": [
    "plt.figure(figsize=(10,6),dpi=200)\n",
    "plt.plot(range(1,100),test_error_rates,label='Test Error')\n",
    "plt.legend()\n",
    "plt.ylabel('Error Rate')\n",
    "plt.xlabel(\"K Value\")"
   ]
  },
  {
   "cell_type": "code",
   "execution_count": 248,
   "id": "8f850656",
   "metadata": {},
   "outputs": [],
   "source": [
    "knn_model = KNeighborsClassifier(n_neighbors = 30)"
   ]
  },
  {
   "cell_type": "code",
   "execution_count": 249,
   "id": "b699213d",
   "metadata": {},
   "outputs": [
    {
     "data": {
      "text/plain": [
       "KNeighborsClassifier(n_neighbors=30)"
      ]
     },
     "execution_count": 249,
     "metadata": {},
     "output_type": "execute_result"
    }
   ],
   "source": [
    "knn_model.fit(scaled_X_train,y_train)"
   ]
  },
  {
   "cell_type": "code",
   "execution_count": 250,
   "id": "18cadf16",
   "metadata": {},
   "outputs": [],
   "source": [
    "preds = knn_model.predict(scaled_X_test)"
   ]
  },
  {
   "cell_type": "code",
   "execution_count": 251,
   "id": "157647b0",
   "metadata": {},
   "outputs": [
    {
     "name": "stdout",
     "output_type": "stream",
     "text": [
      "              precision    recall  f1-score   support\n",
      "\n",
      "           0       0.54      0.69      0.61       143\n",
      "           1       0.77      0.65      0.71       235\n",
      "\n",
      "    accuracy                           0.66       378\n",
      "   macro avg       0.66      0.67      0.66       378\n",
      "weighted avg       0.69      0.66      0.67       378\n",
      "\n"
     ]
    }
   ],
   "source": [
    "print(classification_report(preds,y_test))"
   ]
  },
  {
   "cell_type": "code",
   "execution_count": 252,
   "id": "1b63c059",
   "metadata": {},
   "outputs": [
    {
     "data": {
      "text/plain": [
       "<sklearn.metrics._plot.confusion_matrix.ConfusionMatrixDisplay at 0x1d472284e80>"
      ]
     },
     "execution_count": 252,
     "metadata": {},
     "output_type": "execute_result"
    },
    {
     "data": {
      "image/png": "[encoded data removed]",
      "text/plain": [
       "<Figure size 432x288 with 2 Axes>"
      ]
     },
     "metadata": {
      "needs_background": "light"
     },
     "output_type": "display_data"
    }
   ],
   "source": [
    "plot_confusion_matrix(knn_model, scaled_X_test,y_test)"
   ]
  },
  {
   "cell_type": "code",
   "execution_count": 253,
   "id": "07a0efa3",
   "metadata": {},
   "outputs": [],
   "source": [
    "rand_model = RandomForestClassifier()"
   ]
  },
  {
   "cell_type": "code",
   "execution_count": 254,
   "id": "cc964f44",
   "metadata": {},
   "outputs": [],
   "source": [
    "param_grid = {\"n_estimators\":[1,5,10,20,40,100],'max_depth':[2,4,6,8,10,12]}"
   ]
  },
  {
   "cell_type": "code",
   "execution_count": 255,
   "id": "fb224bde",
   "metadata": {},
   "outputs": [],
   "source": [
    "grid = GridSearchCV(rand_model,param_grid)"
   ]
  },
  {
   "cell_type": "code",
   "execution_count": 256,
   "id": "919980cf",
   "metadata": {},
   "outputs": [
    {
     "data": {
      "text/plain": [
       "GridSearchCV(estimator=RandomForestClassifier(),\n",
       "             param_grid={'max_depth': [2, 4, 6, 8, 10, 12],\n",
       "                         'n_estimators': [1, 5, 10, 20, 40, 100]})"
      ]
     },
     "execution_count": 256,
     "metadata": {},
     "output_type": "execute_result"
    }
   ],
   "source": [
    "grid.fit(scaled_X_train, y_train)"
   ]
  },
  {
   "cell_type": "code",
   "execution_count": 258,
   "id": "f96286a4",
   "metadata": {},
   "outputs": [
    {
     "data": {
      "text/plain": [
       "{'max_depth': 6, 'n_estimators': 10}"
      ]
     },
     "execution_count": 258,
     "metadata": {},
     "output_type": "execute_result"
    }
   ],
   "source": [
    "grid.best_params_"
   ]
  },
  {
   "cell_type": "code",
   "execution_count": 259,
   "id": "de38dd63",
   "metadata": {},
   "outputs": [],
   "source": [
    "preds = grid.predict(scaled_X_test)"
   ]
  },
  {
   "cell_type": "code",
   "execution_count": 260,
   "id": "de22b5fd",
   "metadata": {},
   "outputs": [
    {
     "name": "stdout",
     "output_type": "stream",
     "text": [
      "              precision    recall  f1-score   support\n",
      "\n",
      "           0       0.53      0.64      0.58       151\n",
      "           1       0.72      0.63      0.67       227\n",
      "\n",
      "    accuracy                           0.63       378\n",
      "   macro avg       0.63      0.63      0.63       378\n",
      "weighted avg       0.65      0.63      0.64       378\n",
      "\n"
     ]
    }
   ],
   "source": [
    "print(classification_report(preds,y_test))"
   ]
  },
  {
   "cell_type": "code",
   "execution_count": 261,
   "id": "f1713823",
   "metadata": {},
   "outputs": [
    {
     "data": {
      "text/plain": [
       "<sklearn.metrics._plot.confusion_matrix.ConfusionMatrixDisplay at 0x1d4723d6f10>"
      ]
     },
     "execution_count": 261,
     "metadata": {},
     "output_type": "execute_result"
    },
    {
     "data": {
      "image/png": "[encoded data removed]",
      "text/plain": [
       "<Figure size 432x288 with 2 Axes>"
      ]
     },
     "metadata": {
      "needs_background": "light"
     },
     "output_type": "display_data"
    }
   ],
   "source": [
    "plot_confusion_matrix(grid, scaled_X_test,y_test)"
   ]
  },
  {
   "cell_type": "code",
   "execution_count": null,
   "id": "41e4a6ca",
   "metadata": {},
   "outputs": [],
   "source": []
  }
 ],
 "metadata": {
  "kernelspec": {
   "display_name": "Python 3 (ipykernel)",
   "language": "python",
   "name": "python3"
  },
  "language_info": {
   "codemirror_mode": {
    "name": "ipython",
    "version": 3
   },
   "file_extension": ".py",
   "mimetype": "text/x-python",
   "name": "python",
   "nbconvert_exporter": "python",
   "pygments_lexer": "ipython3",
   "version": "3.9.12"
  }
 },
 "nbformat": 4,
 "nbformat_minor": 5
}
